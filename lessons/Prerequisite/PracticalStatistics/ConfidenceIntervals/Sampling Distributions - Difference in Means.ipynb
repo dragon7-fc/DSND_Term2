{
 "cells": [
  {
   "cell_type": "markdown",
   "metadata": {},
   "source": [
    "### Confidence Interval - Difference In Means\n",
    "\n",
    "Here you will look through the example from the last video, but you will also go a couple of steps further into what might actually be going on with this data."
   ]
  },
  {
   "cell_type": "code",
   "execution_count": 1,
   "metadata": {
    "collapsed": true
   },
   "outputs": [],
   "source": [
    "import pandas as pd\n",
    "import numpy as np\n",
    "import matplotlib.pyplot as plt\n",
    "\n",
    "%matplotlib inline\n",
    "np.random.seed(42)\n",
    "\n",
    "full_data = pd.read_csv('coffee_dataset.csv')\n",
    "sample_data = full_data.sample(200)"
   ]
  },
  {
   "cell_type": "code",
   "execution_count": 2,
   "metadata": {},
   "outputs": [
    {
     "data": {
      "text/html": [
       "<div>\n",
       "<style>\n",
       "    .dataframe thead tr:only-child th {\n",
       "        text-align: right;\n",
       "    }\n",
       "\n",
       "    .dataframe thead th {\n",
       "        text-align: left;\n",
       "    }\n",
       "\n",
       "    .dataframe tbody tr th {\n",
       "        vertical-align: top;\n",
       "    }\n",
       "</style>\n",
       "<table border=\"1\" class=\"dataframe\">\n",
       "  <thead>\n",
       "    <tr style=\"text-align: right;\">\n",
       "      <th></th>\n",
       "      <th>user_id</th>\n",
       "      <th>age</th>\n",
       "      <th>drinks_coffee</th>\n",
       "      <th>height</th>\n",
       "    </tr>\n",
       "  </thead>\n",
       "  <tbody>\n",
       "    <tr>\n",
       "      <th>0</th>\n",
       "      <td>4509</td>\n",
       "      <td>&lt;21</td>\n",
       "      <td>False</td>\n",
       "      <td>64.538179</td>\n",
       "    </tr>\n",
       "    <tr>\n",
       "      <th>1</th>\n",
       "      <td>1864</td>\n",
       "      <td>&gt;=21</td>\n",
       "      <td>True</td>\n",
       "      <td>65.824249</td>\n",
       "    </tr>\n",
       "    <tr>\n",
       "      <th>2</th>\n",
       "      <td>2060</td>\n",
       "      <td>&lt;21</td>\n",
       "      <td>False</td>\n",
       "      <td>71.319854</td>\n",
       "    </tr>\n",
       "    <tr>\n",
       "      <th>3</th>\n",
       "      <td>7875</td>\n",
       "      <td>&gt;=21</td>\n",
       "      <td>True</td>\n",
       "      <td>68.569404</td>\n",
       "    </tr>\n",
       "    <tr>\n",
       "      <th>4</th>\n",
       "      <td>6254</td>\n",
       "      <td>&lt;21</td>\n",
       "      <td>True</td>\n",
       "      <td>64.020226</td>\n",
       "    </tr>\n",
       "  </tbody>\n",
       "</table>\n",
       "</div>"
      ],
      "text/plain": [
       "   user_id   age  drinks_coffee     height\n",
       "0     4509   <21          False  64.538179\n",
       "1     1864  >=21           True  65.824249\n",
       "2     2060   <21          False  71.319854\n",
       "3     7875  >=21           True  68.569404\n",
       "4     6254   <21           True  64.020226"
      ]
     },
     "execution_count": 2,
     "metadata": {},
     "output_type": "execute_result"
    }
   ],
   "source": [
    "full_data.head()"
   ]
  },
  {
   "cell_type": "markdown",
   "metadata": {},
   "source": [
    "`1.` For 10,000 iterations, bootstrap sample your sample data, compute the difference in the average heights for coffee and non-coffee drinkers.  Build a 99% confidence interval using your sampling distribution.  Use your interval to start answering the first quiz question below."
   ]
  },
  {
   "cell_type": "code",
   "execution_count": 3,
   "metadata": {
    "collapsed": true
   },
   "outputs": [
    {
     "data": {
      "text/plain": [
       "(0.10258900080921124, 2.5388333707966568)"
      ]
     },
     "execution_count": 3,
     "metadata": {},
     "output_type": "execute_result"
    }
   ],
   "source": [
    "diffs = []\n",
    "for _ in range(10000):\n",
    "    bootsamp = sample_data.sample(200, replace = True)\n",
    "    coff_mean = bootsamp[bootsamp['drinks_coffee'] == True]['height'].mean()\n",
    "    nocoff_mean = bootsamp[bootsamp['drinks_coffee'] == False]['height'].mean()\n",
    "    diffs.append(coff_mean - nocoff_mean)\n",
    "    \n",
    "np.percentile(diffs, 0.5), np.percentile(diffs, 99.5) \n",
    "# statistical evidence coffee drinkers are on average taller"
   ]
  },
  {
   "cell_type": "code",
   "execution_count": 4,
   "metadata": {},
   "outputs": [
    {
     "data": {
      "text/plain": [
       "(array([   24.,   109.,   546.,  1516.,  2623.,  2826.,  1664.,   568.,\n",
       "          106.,    18.]),\n",
       " array([-0.43028277, -0.07929544,  0.2716919 ,  0.62267923,  0.97366656,\n",
       "         1.3246539 ,  1.67564123,  2.02662857,  2.3776159 ,  2.72860323,\n",
       "         3.07959057]),\n",
       " <a list of 10 Patch objects>)"
      ]
     },
     "execution_count": 4,
     "metadata": {},
     "output_type": "execute_result"
    },
    {
     "data": {
      "image/png": "[encoded data removed]",
      "text/plain": [
       "<matplotlib.figure.Figure at 0x112314c88>"
      ]
     },
     "metadata": {},
     "output_type": "display_data"
    }
   ],
   "source": [
    "plt.hist(diffs)"
   ]
  },
  {
   "cell_type": "markdown",
   "metadata": {},
   "source": [
    "`2.` For 10,000 iterations, bootstrap sample your sample data, compute the difference in the average heights for those older than 21 and those younger than 21.  Build a 99% confidence interval using your sampling distribution.  Use your interval to finish answering the first quiz question below.  "
   ]
  },
  {
   "cell_type": "code",
   "execution_count": 5,
   "metadata": {
    "collapsed": true
   },
   "outputs": [
    {
     "data": {
      "text/plain": [
       "(3.3652749452554795, 5.0932450670661495)"
      ]
     },
     "execution_count": 5,
     "metadata": {},
     "output_type": "execute_result"
    }
   ],
   "source": [
    "diffs_age = []\n",
    "for _ in range(10000):\n",
    "    bootsamp = sample_data.sample(200, replace = True)\n",
    "    under21_mean = bootsamp[bootsamp['age'] == '<21']['height'].mean()\n",
    "    over21_mean = bootsamp[bootsamp['age'] != '<21']['height'].mean()\n",
    "    diffs_age.append(over21_mean - under21_mean)\n",
    "    \n",
    "np.percentile(diffs_age, 0.5), np.percentile(diffs_age, 99.5)\n",
    "# statistical evidence that over21 are on average taller"
   ]
  },
  {
   "cell_type": "code",
   "execution_count": 6,
   "metadata": {},
   "outputs": [
    {
     "data": {
      "text/plain": [
       "(array([    8.,    47.,   329.,  1196.,  2589.,  3083.,  1903.,   714.,\n",
       "          117.,    14.]),\n",
       " array([ 2.84743507,  3.11400025,  3.38056542,  3.64713059,  3.91369577,\n",
       "         4.18026094,  4.44682611,  4.71339129,  4.97995646,  5.24652163,\n",
       "         5.51308681]),\n",
       " <a list of 10 Patch objects>)"
      ]
     },
     "execution_count": 6,
     "metadata": {},
     "output_type": "execute_result"
    },
    {
     "data": {
      "image/png": "[encoded data removed]",
      "text/plain": [
       "<matplotlib.figure.Figure at 0x115d06c18>"
      ]
     },
     "metadata": {},
     "output_type": "display_data"
    }
   ],
   "source": [
    "plt.hist(diffs_age)"
   ]
  },
  {
   "cell_type": "markdown",
   "metadata": {},
   "source": [
    "`3.` For 10,000 iterations bootstrap your sample data, compute the **difference** in the average height for coffee drinkers and the average height for non-coffee drinkers for individuals **under** 21 years old.  Using your sampling distribution, build a 95% confidence interval.  Use your interval to start answering question 2 below."
   ]
  },
  {
   "cell_type": "code",
   "execution_count": 7,
   "metadata": {
    "collapsed": true
   },
   "outputs": [
    {
     "data": {
      "text/plain": [
       "(1.0593651244624267, 2.5931557940679042)"
      ]
     },
     "execution_count": 7,
     "metadata": {},
     "output_type": "execute_result"
    }
   ],
   "source": [
    "diffs_coff_under21 = []\n",
    "for _ in range(10000):\n",
    "    bootsamp = sample_data.sample(200, replace = True)\n",
    "    under21_coff_mean = bootsamp.query(\"age == '<21' and drinks_coffee == True\")['height'].mean()\n",
    "    under21_nocoff_mean = bootsamp.query(\"age == '<21' and drinks_coffee == False\")['height'].mean()\n",
    "    diffs_coff_under21.append(under21_nocoff_mean - under21_coff_mean)\n",
    "    \n",
    "np.percentile(diffs_coff_under21, 2.5), np.percentile(diffs_coff_under21, 97.5)\n",
    "# For the under21 group, we have evidence that the non-coffee drinkers are on average taller"
   ]
  },
  {
   "cell_type": "code",
   "execution_count": 8,
   "metadata": {},
   "outputs": [
    {
     "data": {
      "text/plain": [
       "(array([  3.00000000e+00,   5.00000000e+01,   3.44000000e+02,\n",
       "          1.28300000e+03,   2.52300000e+03,   3.01100000e+03,\n",
       "          1.98000000e+03,   6.80000000e+02,   1.15000000e+02,\n",
       "          1.10000000e+01]),\n",
       " array([ 0.21225132,  0.52377323,  0.83529515,  1.14681707,  1.45833899,\n",
       "         1.76986091,  2.08138283,  2.39290475,  2.70442667,  3.01594859,\n",
       "         3.32747051]),\n",
       " <a list of 10 Patch objects>)"
      ]
     },
     "execution_count": 8,
     "metadata": {},
     "output_type": "execute_result"
    },
    {
     "data": {
      "image/png": "[encoded data removed]",
      "text/plain": [
       "<matplotlib.figure.Figure at 0x118c441d0>"
      ]
     },
     "metadata": {},
     "output_type": "display_data"
    }
   ],
   "source": [
    "plt.hist(diffs_coff_under21)"
   ]
  },
  {
   "cell_type": "markdown",
   "metadata": {},
   "source": [
    "`4.` For 10,000 iterations bootstrap your sample data, compute the **difference** in the average height for coffee drinkers and the average height for non-coffee drinkers for individuals **over** 21 years old.  Using your sampling distribution, build a 95% confidence interval. Use your interval to finish answering the second quiz question below. As well as the following questions. "
   ]
  },
  {
   "cell_type": "code",
   "execution_count": 9,
   "metadata": {
    "collapsed": true
   },
   "outputs": [
    {
     "data": {
      "text/plain": [
       "(1.8278953970883667, 4.4026329654774337)"
      ]
     },
     "execution_count": 9,
     "metadata": {},
     "output_type": "execute_result"
    }
   ],
   "source": [
    "diffs_coff_over21 = []\n",
    "for _ in range(10000):\n",
    "    bootsamp = sample_data.sample(200, replace = True)\n",
    "    over21_coff_mean = bootsamp.query(\"age != '<21' and drinks_coffee == True\")['height'].mean()\n",
    "    over21_nocoff_mean = bootsamp.query(\"age != '<21' and drinks_coffee == False\")['height'].mean()\n",
    "    diffs_coff_over21.append(over21_nocoff_mean - over21_coff_mean)\n",
    "    \n",
    "np.percentile(diffs_coff_over21, 2.5), np.percentile(diffs_coff_over21, 97.5)\n",
    "# For the over21 group, we have evidence that on average the non-coffee drinkers are taller"
   ]
  },
  {
   "cell_type": "code",
   "execution_count": 10,
   "metadata": {},
   "outputs": [
    {
     "data": {
      "text/plain": [
       "(array([  3.00000000e+00,   1.00000000e+02,   9.26000000e+02,\n",
       "          3.36100000e+03,   3.92000000e+03,   1.48100000e+03,\n",
       "          1.91000000e+02,   1.50000000e+01,   2.00000000e+00,\n",
       "          1.00000000e+00]),\n",
       " array([ 0.17351844,  0.8855739 ,  1.59762935,  2.30968481,  3.02174027,\n",
       "         3.73379573,  4.44585119,  5.15790665,  5.86996211,  6.58201757,\n",
       "         7.29407303]),\n",
       " <a list of 10 Patch objects>)"
      ]
     },
     "execution_count": 10,
     "metadata": {},
     "output_type": "execute_result"
    },
    {
     "data": {
      "image/png": "[encoded data removed]",
      "text/plain": [
       "<matplotlib.figure.Figure at 0x118de8198>"
      ]
     },
     "metadata": {},
     "output_type": "display_data"
    }
   ],
   "source": [
    "plt.hist(diffs_coff_over21)"
   ]
  },
  {
   "cell_type": "markdown",
   "metadata": {},
   "source": [
    "Within the under 21 and over 21 groups, we saw that on average non-coffee drinkers were taller.  But, when combined, we saw that on average coffee drinkers were on average taller.  This is again **Simpson's paradox**, and essentially there are more adults in the dataset who were coffee drinkers.  So these individuals made it seem like coffee drinkers were on average taller - which is a misleading result.  \n",
    "\n",
    "A larger idea for this is the idea of confounding variables altogether.  You will learn even more about these in the regression section of the course."
   ]
  },
  {
   "cell_type": "code",
   "execution_count": null,
   "metadata": {},
   "outputs": [],
   "source": []
  }
 ],
 "metadata": {
  "kernelspec": {
   "display_name": "Python 3",
   "language": "python",
   "name": "python3"
  },
  "language_info": {
   "codemirror_mode": {
    "name": "ipython",
    "version": 3
   },
   "file_extension": ".py",
   "mimetype": "text/x-python",
   "name": "python",
   "nbconvert_exporter": "python",
   "pygments_lexer": "ipython3",
   "version": "3.6.8"
  }
 },
 "nbformat": 4,
 "nbformat_minor": 2
}
